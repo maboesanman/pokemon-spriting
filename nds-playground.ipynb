{
 "cells": [
  {
   "cell_type": "code",
   "execution_count": 2,
   "metadata": {},
   "outputs": [],
   "source": [
    "import os\n",
    "os.chdir(\"/workspace\")"
   ]
  },
  {
   "cell_type": "code",
   "execution_count": 25,
   "metadata": {},
   "outputs": [],
   "source": [
    "import ndspy.rom\n",
    "import ndspy.narc\n",
    "\n",
    "# load the narc data\n",
    "rom = ndspy.rom.NintendoDSRom.fromFile(\"Pokemon - HeartGold Version (USA).nds\")\n",
    "narcData = rom.getFileByName(\"a/0/0/4\")\n",
    "narc = ndspy.narc.NARC(narcData)"
   ]
  },
  {
   "cell_type": "code",
   "execution_count": 27,
   "metadata": {},
   "outputs": [],
   "source": [
    "from nitrogfx.ncgr import NCGR\n",
    "from nitrogfx.nclr import NCLR\n",
    "from nitrogfx.convert import ncgr_to_png\n",
    "\n",
    "sprite = NCGR.unpack(bytes(narc.files[6]))\n",
    "palette = NCLR.unpack(bytes(narc.files[10]))\n",
    "\n",
    "ncgr_to_png(sprite, \"sprite.png\", palette)\n"
   ]
  },
  {
   "cell_type": "code",
   "execution_count": null,
   "metadata": {},
   "outputs": [],
   "source": []
  }
 ],
 "metadata": {
  "kernelspec": {
   "display_name": "Python 3",
   "language": "python",
   "name": "python3"
  },
  "language_info": {
   "codemirror_mode": {
    "name": "ipython",
    "version": 3
   },
   "file_extension": ".py",
   "mimetype": "text/x-python",
   "name": "python",
   "nbconvert_exporter": "python",
   "pygments_lexer": "ipython3",
   "version": "3.10.16"
  }
 },
 "nbformat": 4,
 "nbformat_minor": 2
}
