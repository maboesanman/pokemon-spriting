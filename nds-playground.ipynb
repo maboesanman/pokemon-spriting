{
 "cells": [
  {
   "cell_type": "code",
   "execution_count": 1,
   "metadata": {},
   "outputs": [],
   "source": [
    "import os\n",
    "import ndspy.rom\n",
    "import ndspy.narc\n",
    "\n",
    "os.chdir(\"/workspace\")"
   ]
  },
  {
   "cell_type": "code",
   "execution_count": 2,
   "metadata": {},
   "outputs": [],
   "source": [
    "from PIL import Image\n",
    "import struct\n",
    "\n",
    "def make_palette(data: bytes):\n",
    "    # Skip first 40 bytes\n",
    "    # Then read 16 ushorts\n",
    "    # Each ushort is a 5-5-5 BGR color. \n",
    "    # The code converts them into 24-bit RGB by shifting and multiplying by 8.\n",
    "    offset = 40\n",
    "    raw = data[offset:offset+16*2]\n",
    "    arr = struct.unpack('<16H', raw)\n",
    "\n",
    "    print(len(arr))\n",
    "    \n",
    "    palette = []\n",
    "    for val in arr:\n",
    "        r = ((val >> 0) & 0x1F) << 3\n",
    "        g = ((val >> 5) & 0x1F) << 3\n",
    "        b = ((val >> 10) & 0x1F) << 3\n",
    "        palette.extend((r, g, b))\n",
    "\n",
    "    return palette\n",
    "    \n",
    "\n",
    "def make_image(data: bytes, dpcheck: bool, palette):\n",
    "    # Skip first 48 bytes, then read 3200 ushorts.\n",
    "    offset = 48\n",
    "    raw = data[offset:offset+3200*2]\n",
    "    arr = list(struct.unpack('<3200H', raw))\n",
    "\n",
    "    # Perform XOR transformation\n",
    "    if not dpcheck:\n",
    "        num = arr[0]\n",
    "        for j in range(3200):\n",
    "            arr[j] ^= (num & 0xFFFF)\n",
    "            num = (num * 1103515245 + 24691) & 0xFFFFFFFF\n",
    "    else:\n",
    "        num = arr[3199]\n",
    "        for j in range(3199, -1, -1):\n",
    "            arr[j] ^= (num & 0xFFFF)\n",
    "            num = (num * 1103515245 + 24691) & 0xFFFFFFFF\n",
    "\n",
    "    # Decompose each ushort into 4 pixels (4 nibbles)\n",
    "    # Each pixel: 4 bits -> convert to a byte (0-15)\n",
    "    # array3 length = 3200*4 = 12800\n",
    "    # image size: 160 x 80 = 12800 pixels total\n",
    "    img_data = bytearray(12800)\n",
    "    for k in range(3200):\n",
    "        val = arr[k]\n",
    "        img_data[k*4 + 0] = (val & 0xF)\n",
    "        img_data[k*4 + 1] = ((val >> 4) & 0xF)\n",
    "        img_data[k*4 + 2] = ((val >> 8) & 0xF)\n",
    "        img_data[k*4 + 3] = ((val >> 12) & 0xF)\n",
    "\n",
    "    # Create an 8bpp indexed image\n",
    "    img = Image.frombytes('P', (160, 80), bytes(img_data))\n",
    "\n",
    "    palette.extend([0]*(768 - 48))\n",
    "\n",
    "    img.putpalette(palette)\n",
    "\n",
    "    return img\n"
   ]
  },
  {
   "cell_type": "code",
   "execution_count": 10,
   "metadata": {},
   "outputs": [],
   "source": [
    "def image_by_dex(dex, sprite=3, shiny=False):\n",
    "    base_index = dex * 6\n",
    "    sprite_index = base_index + sprite\n",
    "    palette_index = base_index + 4\n",
    "    shiny_palette_index = base_index + 5\n",
    "\n",
    "    if shiny:\n",
    "        palette = make_palette(narc.files[shiny_palette_index])\n",
    "    else:\n",
    "        palette = make_palette(narc.files[palette_index])\n",
    "\n",
    "    image = make_image(narc.files[sprite_index], False, palette)\n",
    "\n",
    "    return image\n"
   ]
  },
  {
   "cell_type": "code",
   "execution_count": 4,
   "metadata": {},
   "outputs": [],
   "source": [
    "# load the narc data for the pokemon sprites\n",
    "rom = ndspy.rom.NintendoDSRom.fromFile(\"Pokemon - HeartGold Version (USA).nds\")\n",
    "narcData = rom.getFileByName(\"a/0/0/4\")\n",
    "narc = ndspy.narc.NARC(narcData)"
   ]
  },
  {
   "cell_type": "code",
   "execution_count": 25,
   "metadata": {},
   "outputs": [],
   "source": [
    "# load the narc data for the overworld sprites\n",
    "rom = ndspy.rom.NintendoDSRom.fromFile(\"Pokemon - HeartGold Version (USA).nds\")\n",
    "narcData = rom.getFileByName(\"a/0/8/1\")\n",
    "\n",
    "# these files are btx files, not ncgr files\n",
    "overworldNarc = ndspy.narc.NARC(narcData)"
   ]
  },
  {
   "cell_type": "code",
   "execution_count": 42,
   "metadata": {},
   "outputs": [
    {
     "name": "stdout",
     "output_type": "stream",
     "text": [
      "16\n"
     ]
    },
    {
     "data": {
      "image/png": "[encoded data removed]",
      "text/plain": [
       "<PIL.Image.Image image mode=P size=160x80 at 0x7F7BF3F125F0>"
      ]
     },
     "execution_count": 42,
     "metadata": {},
     "output_type": "execute_result"
    }
   ],
   "source": [
    "palette = make_palette(palette_bytes)\n",
    "make_image(sprite_bytes, False, palette)"
   ]
  },
  {
   "cell_type": "code",
   "execution_count": null,
   "metadata": {},
   "outputs": [
    {
     "ename": "NameError",
     "evalue": "name 'image_by_dex' is not defined",
     "output_type": "error",
     "traceback": [
      "\u001b[1;31m---------------------------------------------------------------------------\u001b[0m",
      "\u001b[1;31mNameError\u001b[0m                                 Traceback (most recent call last)",
      "Cell \u001b[1;32mIn[1], line 1\u001b[0m\n\u001b[1;32m----> 1\u001b[0m \u001b[43mimage_by_dex\u001b[49m(\u001b[38;5;241m151\u001b[39m, \u001b[38;5;241m1\u001b[39m, \u001b[38;5;28;01mTrue\u001b[39;00m)\n",
      "\u001b[1;31mNameError\u001b[0m: name 'image_by_dex' is not defined"
     ]
    }
   ],
   "source": [
    "image_by_dex(151, 3, True)"
   ]
  },
  {
   "cell_type": "code",
   "execution_count": null,
   "metadata": {},
   "outputs": [],
   "source": []
  }
 ],
 "metadata": {
  "kernelspec": {
   "display_name": "Python 3",
   "language": "python",
   "name": "python3"
  },
  "language_info": {
   "codemirror_mode": {
    "name": "ipython",
    "version": 3
   },
   "file_extension": ".py",
   "mimetype": "text/x-python",
   "name": "python",
   "nbconvert_exporter": "python",
   "pygments_lexer": "ipython3",
   "version": "3.12.8"
  }
 },
 "nbformat": 4,
 "nbformat_minor": 2
}
